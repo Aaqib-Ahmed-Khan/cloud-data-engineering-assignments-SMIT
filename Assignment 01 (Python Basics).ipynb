{
 "cells": [
  {
   "cell_type": "markdown",
   "metadata": {},
   "source": [
    "# Part -1 Python Basics (Variables)"
   ]
  },
  {
   "cell_type": "markdown",
   "metadata": {},
   "source": [
    "1. Print Your Name with your Father name and Date of birth using suitable escape sequence charactor"
   ]
  },
  {
   "cell_type": "code",
   "execution_count": null,
   "metadata": {},
   "outputs": [
    {
     "name": "stdout",
     "output_type": "stream",
     "text": [
      "Name:AAQIB AHMED KHAN\n",
      " Father's Name:Zaheer Ahmed Khan\n",
      " Date of Birth: 19-4-2004\n"
     ]
    }
   ],
   "source": [
    "print(\"Name:AAQIB AHMED KHAN\\n Father's Name:Zaheer Ahmed Khan\\n Date of Birth: 19-4-2004\")"
   ]
  },
  {
   "cell_type": "markdown",
   "metadata": {},
   "source": [
    "2. Write your small bio using variables and print it using print function"
   ]
  },
  {
   "cell_type": "code",
   "execution_count": null,
   "metadata": {},
   "outputs": [
    {
     "name": "stdout",
     "output_type": "stream",
     "text": [
      "name isAaqib Ahmed Khan\n",
      "dob is19-4-2004\n",
      "Father_name is Zaheer Ahmed Khan\n",
      "Lives inKarachi\n"
     ]
    }
   ],
   "source": [
    "name = \"Aaqib Ahmed Khan\"\n",
    "dob=\"19-4-2004\"\n",
    "Father_name=\"Zaheer Ahmed Khan\"\n",
    "City=\"Karachi\"\n",
    "\n",
    "print(\"name is\" + name)\n",
    "print(\"dob is\" +  dob)\n",
    "print(\"Father_name is \" + Father_name)\n",
    "print(\"Lives in\" + City)"
   ]
  },
  {
   "cell_type": "markdown",
   "metadata": {},
   "source": [
    "rint=(\"name is\" + name)2. Write your small bio using variables and print it using print function"
   ]
  },
  {
   "cell_type": "markdown",
   "metadata": {},
   "source": [
    "3. Write a program in which use all the operators we can use in Python"
   ]
  },
  {
   "cell_type": "code",
   "execution_count": null,
   "metadata": {},
   "outputs": [
    {
     "name": "stdout",
     "output_type": "stream",
     "text": [
      "Arithmetic Operators:\n",
      "Addition: 13\n",
      "Subtraction: 7\n",
      "Multiplication: 30\n",
      "Division: 3.3333333333333335\n",
      "Floor Division: 3\n",
      "Modulus: 1\n",
      "Exponentiation: 1000\n",
      "\n",
      "Comparison Operators:\n",
      "Equal: False\n",
      "Not Equal: True\n",
      "Greater Than: True\n",
      "Less Than: False\n",
      "Greater or Equal: True\n",
      "Less or Equal: False\n",
      "\n",
      "Logical Operators:\n",
      "AND: False\n",
      "OR: True\n",
      "NOT x: False\n",
      "\n",
      "Bitwise Operators:\n",
      "Bitwise AND: 1\n",
      "Bitwise OR: 7\n",
      "Bitwise XOR: 6\n",
      "Bitwise NOT (~p): -6\n",
      "Left Shift: 10\n",
      "Right Shift: 2\n",
      "\n",
      "Assignment Operators:\n",
      "c += 5: 15\n",
      "c -= 3: 12\n",
      "c *= 2: 24\n",
      "c /= 4: 6.0\n",
      "c //= 2: 3.0\n",
      "c %= 3: 0.0\n",
      "c **= 2: 0.0\n",
      "\n",
      "Identity Operators:\n",
      "m is n: False\n",
      "m is not n: True\n",
      "\n",
      "Membership Operators:\n",
      "'H' in text: True\n",
      "'z' not in text: True\n"
     ]
    }
   ],
   "source": [
    "# Arithmetic Operators\n",
    "a = 10\n",
    "b = 3\n",
    "print(\"Arithmetic Operators:\")\n",
    "print(\"Addition:\", a + b)\n",
    "print(\"Subtraction:\", a - b)\n",
    "print(\"Multiplication:\", a * b)\n",
    "print(\"Division:\", a / b)\n",
    "print(\"Floor Division:\", a // b)\n",
    "print(\"Modulus:\", a % b)\n",
    "print(\"Exponentiation:\", a ** b)\n",
    "\n",
    "# Comparison Operators\n",
    "print(\"\\nComparison Operators:\")\n",
    "print(\"Equal:\", a == b)\n",
    "print(\"Not Equal:\", a != b)\n",
    "print(\"Greater Than:\", a > b)\n",
    "print(\"Less Than:\", a < b)\n",
    "print(\"Greater or Equal:\", a >= b)\n",
    "print(\"Less or Equal:\", a <= b)\n",
    "\n",
    "# Logical Operators\n",
    "x = True\n",
    "y = False\n",
    "print(\"\\nLogical Operators:\")\n",
    "print(\"AND:\", x and y)\n",
    "print(\"OR:\", x or y)\n",
    "print(\"NOT x:\", not x)\n",
    "\n",
    "# Bitwise Operators\n",
    "p = 5  # 0b0101\n",
    "q = 3  # 0b0011\n",
    "print(\"\\nBitwise Operators:\")\n",
    "print(\"Bitwise AND:\", p & q)\n",
    "print(\"Bitwise OR:\", p | q)\n",
    "print(\"Bitwise XOR:\", p ^ q)\n",
    "print(\"Bitwise NOT (~p):\", ~p)\n",
    "print(\"Left Shift:\", p << 1)\n",
    "print(\"Right Shift:\", p >> 1)\n",
    "\n",
    "# Assignment Operators\n",
    "c = 10\n",
    "print(\"\\nAssignment Operators:\")\n",
    "c += 5  # c = c + 5\n",
    "print(\"c += 5:\", c)\n",
    "c -= 3  # c = c - 3\n",
    "print(\"c -= 3:\", c)\n",
    "c *= 2  # c = c * 2\n",
    "print(\"c *= 2:\", c)\n",
    "c /= 4  # c = c / 4\n",
    "print(\"c /= 4:\", c)\n",
    "c //= 2  # c = c // 2\n",
    "print(\"c //= 2:\", c)\n",
    "c %= 3  # c = c % 3\n",
    "print(\"c %= 3:\", c)\n",
    "c **= 2  # c = c ** 2\n",
    "print(\"c **= 2:\", c)\n",
    "\n",
    "# Identity Operators\n",
    "m = [1, 2, 3]\n",
    "n = [1, 2, 3]\n",
    "print(\"\\nIdentity Operators:\")\n",
    "print(\"m is n:\", m is n)  # False because they are different objects\n",
    "print(\"m is not n:\", m is not n)  # True\n",
    "\n",
    "# Membership Operators\n",
    "text = \"Hello Python\"\n",
    "print(\"\\nMembership Operators:\")\n",
    "print(\"'H' in text:\", 'H' in text)\n",
    "print(\"'z' not in text:\", 'z' not in text)\n"
   ]
  },
  {
   "cell_type": "markdown",
   "metadata": {},
   "source": [
    "4. Completes the following steps of small task:\n",
    "    - Mention Marks of English , Islamiat and Maths out of 100 in 3 different variables\n",
    "    - Mention Variable of Total Marks and assign 300 to it\n",
    "    - Calculate Percentage"
   ]
  },
  {
   "cell_type": "code",
   "execution_count": null,
   "metadata": {},
   "outputs": [
    {
     "name": "stdout",
     "output_type": "stream",
     "text": [
      "Percentage is: 92.66666666666666\n"
     ]
    }
   ],
   "source": [
    "islamiat = 99\n",
    "english = 90\n",
    "maths = 89\n",
    "\n",
    "total_marks = 300\n",
    "obtained_marks = islamiat + english + maths \n",
    "percentage = (obtained_marks / total_marks) * 100 \n",
    "\n",
    "print(\"Percentage is:\", percentage)\n"
   ]
  },
  {
   "cell_type": "markdown",
   "metadata": {},
   "source": [
    "# Part -2 Python Basics (Conditional Statements)"
   ]
  },
  {
   "cell_type": "markdown",
   "metadata": {},
   "source": [
    "1) A company decided to give bonus of 5% to employee if his/her year of service is more than 5 years.\n",
    "Ask user for their salary and year of service and print the net bonus amount."
   ]
  },
  {
   "cell_type": "code",
   "execution_count": null,
   "metadata": {},
   "outputs": [],
   "source": [
    "service_year=(int(input(\"enter your service year 4\")))\n",
    "current_salary=(float(input(\"enter your salary : \")))\n",
    "if service_year>=5:\n",
    "    bonus= current_salary * 0.05\n",
    "    print(\"your got a bonus of :\" ,bonus)\n",
    "else:\n",
    "    print(\"sorry no bonus as you service of years is less than 5 years\")\n"
   ]
  },
  {
   "cell_type": "markdown",
   "metadata": {},
   "source": [
    "\n",
    "2) Write a program to check whether a person is eligible for voting or not. (accept age from user) if age is greater than 17 eligible otherwise not eligible"
   ]
  },
  {
   "cell_type": "code",
   "execution_count": null,
   "metadata": {},
   "outputs": [
    {
     "name": "stdout",
     "output_type": "stream",
     "text": [
      "You are eligible to vote.\n"
     ]
    }
   ],
   "source": [
    "\n",
    "age = int(input(\"Enter your age: \"))\n",
    "if age > 17:\n",
    "    print(\"You are eligible to vote.\")\n",
    "else:\n",
    "    print(\"You are not eligible to vote.\")\n"
   ]
  },
  {
   "cell_type": "markdown",
   "metadata": {},
   "source": [
    "\n",
    "3) Write a program to check whether a number entered by user is even or odd."
   ]
  },
  {
   "cell_type": "code",
   "execution_count": null,
   "metadata": {},
   "outputs": [
    {
     "name": "stdout",
     "output_type": "stream",
     "text": [
      "the number is even.\n"
     ]
    }
   ],
   "source": [
    "\n",
    "num = int(input(\"enter a number: \"))\n",
    "if num % 2 == 0:\n",
    "    print(\"the number is even.\")\n",
    "else:\n",
    "    print(\"the number is odd.\")\n"
   ]
  },
  {
   "cell_type": "markdown",
   "metadata": {},
   "source": [
    "4) Write a program to check whether a number is divisible by 7 or not.\n",
    "Show Answer"
   ]
  },
  {
   "cell_type": "code",
   "execution_count": null,
   "metadata": {},
   "outputs": [
    {
     "name": "stdout",
     "output_type": "stream",
     "text": [
      "The number is divisible by 7\n"
     ]
    }
   ],
   "source": [
    "num = int(input(\"Enter a number: \"))\n",
    "if num % 7 == 0:\n",
    "    print(\"The number is divisible by 7\")\n",
    "else:\n",
    "    print(\"The number is not divisible by 7\")\n"
   ]
  },
  {
   "cell_type": "markdown",
   "metadata": {},
   "source": [
    "5) Write a program to display \n",
    "\"Hello\" if a number entered by user is a multiple of five , otherwise print \"Bye\"."
   ]
  },
  {
   "cell_type": "code",
   "execution_count": null,
   "metadata": {},
   "outputs": [
    {
     "name": "stdout",
     "output_type": "stream",
     "text": [
      "Hello\n"
     ]
    }
   ],
   "source": [
    "num = int(input(\"Enter a number: \"))\n",
    "if num % 5 == 0:\n",
    "    print(\"Hello\")\n",
    "else:\n",
    "    print(\"Bye\")\n"
   ]
  },
  {
   "cell_type": "markdown",
   "metadata": {},
   "source": [
    "7) Write a program to display the last digit of a number.\n"
   ]
  },
  {
   "cell_type": "code",
   "execution_count": null,
   "metadata": {},
   "outputs": [
    {
     "name": "stdout",
     "output_type": "stream",
     "text": [
      "The last digit of the number is: 0\n"
     ]
    }
   ],
   "source": [
    "num = int(input(\"Enter a number: \"))\n",
    "last_digit = num % 10\n",
    "print(\"The last digit of the number is:\", last_digit)\n"
   ]
  },
  {
   "cell_type": "markdown",
   "metadata": {},
   "source": [
    "9) Take values of length and breadth of a rectangle from user and print if it is square or rectangle."
   ]
  },
  {
   "cell_type": "code",
   "execution_count": null,
   "metadata": {},
   "outputs": [
    {
     "name": "stdout",
     "output_type": "stream",
     "text": [
      "It is a Rectangle.\n"
     ]
    }
   ],
   "source": [
    "length = int(input(\"Enter the length: \"))\n",
    "breadth = int(input(\"Enter the breadth: \"))\n",
    "if length == breadth:\n",
    "    print(\"It is a Square.\")\n",
    "else:\n",
    "    print(\"It is a Rectangle.\")\n"
   ]
  },
  {
   "cell_type": "markdown",
   "metadata": {},
   "source": [
    "10) Take two int values from user and print greatest among them."
   ]
  },
  {
   "cell_type": "code",
   "execution_count": null,
   "metadata": {},
   "outputs": [
    {
     "name": "stdout",
     "output_type": "stream",
     "text": [
      "the second number is greater.\n"
     ]
    }
   ],
   "source": [
    "num1 = int(input(\"enter first number: \"))  \n",
    "num2 = int(input(\"enter second number: \"))  \n",
    "\n",
    "if num1 > num2:  \n",
    "    print(\"the first number is greater.\")  \n",
    "elif num2 > num1:  \n",
    "    print(\"the second number is greater.\")  \n",
    "else:  \n",
    "    print(\"both numbers are equal.\")  \n"
   ]
  },
  {
   "cell_type": "markdown",
   "metadata": {},
   "source": [
    "11) A shop will give discount of 10% if the cost of purchased quantity is more than 1000.\n",
    "Ask user for quantity\n",
    "Suppose, one unit will cost 100.\n",
    "Judge and print total cost for user."
   ]
  },
  {
   "cell_type": "code",
   "execution_count": null,
   "metadata": {},
   "outputs": [
    {
     "name": "stdout",
     "output_type": "stream",
     "text": [
      "total cost after discount (if applicable): 108000.0\n"
     ]
    }
   ],
   "source": [
    "quantity = int(input(\"enter the quantity: \"))\n",
    "\n",
    "unit_price = 100\n",
    "total_cost = quantity * unit_price\n",
    "\n",
    "if total_cost > 1000:\n",
    "    discount = total_cost * 0.10\n",
    "    total_cost -= discount\n",
    "\n",
    "print(\"total cost after discount (if applicable):\", total_cost)\n"
   ]
  },
  {
   "cell_type": "markdown",
   "metadata": {},
   "source": [
    "12) A school has following rules for grading system:\n",
    "\n",
    "a. Below 25 - F\n",
    "\n",
    "b. 25 to 45 - E\n",
    "\n",
    "c. 45 to 50 - D\n",
    "\n",
    "d. 50 to 60 - C\n",
    "\n",
    "e. 60 to 80 - B\n",
    "\n",
    "f. Above 80 - A\n",
    "\n",
    "Ask user to enter marks and print the corresponding grade."
   ]
  },
  {
   "cell_type": "code",
   "execution_count": 1,
   "metadata": {},
   "outputs": [
    {
     "name": "stdout",
     "output_type": "stream",
     "text": [
      "your grade is: a\n"
     ]
    }
   ],
   "source": [
    "marks = int(input(\"enter your marks: \"))\n",
    "\n",
    "if marks < 25:\n",
    "    grade = \"f\"\n",
    "elif marks >= 25 and marks < 45:\n",
    "    grade = \"e\"\n",
    "elif marks >= 45 and marks < 50:\n",
    "    grade = \"d\"\n",
    "elif marks >= 50 and marks < 60:\n",
    "    grade = \"c\"\n",
    "elif marks >= 60 and marks < 80:\n",
    "    grade = \"b\"\n",
    "else:\n",
    "    grade = \"a\"\n",
    "\n",
    "print(\"your grade is:\", grade)\n"
   ]
  },
  {
   "cell_type": "markdown",
   "metadata": {},
   "source": [
    "14)A student will not be allowed to sit in exam if his/her attendence is less than 75%.\n",
    "\n",
    "Take following input from user\n",
    "\n",
    "- Number of classes held\n",
    "\n",
    "- Number of classes attended.\n",
    "\n",
    "And print\n",
    "\n",
    "- percentage of class attended\n",
    "\n",
    "- Is student is allowed to sit in exam or not.\n"
   ]
  },
  {
   "cell_type": "code",
   "execution_count": 3,
   "metadata": {},
   "outputs": [
    {
     "name": "stdout",
     "output_type": "stream",
     "text": [
      "percentage of classes attended: 75.0 %\n",
      "you are allowed to sit in the exam.\n"
     ]
    }
   ],
   "source": [
    "\n",
    "classes_held = int(input(\"enter the number of classes held: \"))  \n",
    "classes_attended = int(input(\"enter the number of classes attended: \"))  \n",
    "\n",
    "attendance_percentage = (classes_attended / classes_held) * 100  \n",
    "\n",
    "print(\"percentage of classes attended:\", attendance_percentage, \"%\")\n",
    "\n",
    "if attendance_percentage >= 75:  \n",
    "    print(\"you are allowed to sit in the exam.\")  \n",
    "else:  \n",
    "    print(\"you are not allowed to sit in the exam.\")  \n"
   ]
  },
  {
   "cell_type": "markdown",
   "metadata": {},
   "source": [
    "15) Modify the above question to allow student to sit if he/she has medical cause. Ask user if he/she has medical cause or not ( 'Y' or 'N' ) and print accordingly."
   ]
  },
  {
   "cell_type": "code",
   "execution_count": 4,
   "metadata": {},
   "outputs": [
    {
     "name": "stdout",
     "output_type": "stream",
     "text": [
      "percentage of classes attended: 77.77777777777779 %\n",
      "you are allowed to sit in the exam.\n"
     ]
    }
   ],
   "source": [
    "classes_held = int(input(\"enter the number of classes held: \"))  \n",
    "classes_attended = int(input(\"enter the number of classes attended: \"))  \n",
    "\n",
    "attendance_percentage = (classes_attended / classes_held) * 100  \n",
    "\n",
    "print(\"percentage of classes attended:\", attendance_percentage, \"%\")\n",
    "\n",
    "if attendance_percentage >= 75:  \n",
    "    print(\"you are allowed to sit in the exam.\")  \n",
    "else:  \n",
    "\n",
    "    medical_cause = input(\"do you have a medical cause? (y/n): \").lower()  \n",
    "    if medical_cause == 'y':  \n",
    "        print(\"you are allowed to sit in the exam due to medical cause.\")  \n",
    "    else:  \n",
    "        print(\"you are not allowed to sit in the exam.\")  \n"
   ]
  },
  {
   "cell_type": "markdown",
   "metadata": {},
   "source": [
    "16) Write a program to check if a year is leap year or not.\n",
    "\n",
    "If a year is divisible by 4 then it is leap year but if the year is century year like 2000, 1900, 2100 then it must be divisible by 400."
   ]
  },
  {
   "cell_type": "code",
   "execution_count": 5,
   "metadata": {},
   "outputs": [
    {
     "name": "stdout",
     "output_type": "stream",
     "text": [
      "8 is a leap year.\n"
     ]
    }
   ],
   "source": [
    "ear = int(input(\"enter a year: \"))\n",
    "\n",
    "if (year % 4 == 0 and year % 100 != 0) or (year % 400 == 0):\n",
    "    print(year, \"is a leap year.\")\n",
    "else:\n",
    "    print(year, \"is not a leap year.\")\n"
   ]
  },
  {
   "cell_type": "markdown",
   "metadata": {},
   "source": [
    "17) Ask user to enter age, gender ( M or F ), marital status ( Y or N ) and then using following rules print their place of service.\n",
    "\n",
    "if employee is female, then she will work only in urban areas.\n",
    "\n",
    "if employee is a male and age is in between 20 to 40 then he may work in anywhere\n",
    "\n",
    "if employee is male and age is in between 40 t0 60 then he will work in urban areas only.\n",
    "\n",
    "And any other input of age should print \"ERROR\""
   ]
  },
  {
   "cell_type": "code",
   "execution_count": null,
   "metadata": {},
   "outputs": [],
   "source": [
    "#Type your code here"
   ]
  },
  {
   "cell_type": "markdown",
   "metadata": {},
   "source": [
    "6) Write a program to calculate the electricity bill (accept number of unit from user) according to the following criteria :\n",
    "     Unit                                                     Price  \n",
    "uptp 100 units                                             no charge\n",
    "Next 200 units                                              Rs 5 per unit\n",
    "After 200 units                                             Rs 10 per unit\n",
    "(For example if input unit is 350 than total bill amount is Rs.3500\n",
    "(For example if input unit is 97 than total bill amount is Rs.0\n",
    "(For example if input unit is 150 than total bill amount is Rs.750"
   ]
  },
  {
   "cell_type": "markdown",
   "metadata": {},
   "source": [
    "13) Take input of age of 3 people by user and determine oldest and youngest among them."
   ]
  },
  {
   "cell_type": "code",
   "execution_count": null,
   "metadata": {},
   "outputs": [],
   "source": [
    "#Type your code here"
   ]
  }
 ],
 "metadata": {
  "kernelspec": {
   "display_name": "Python 3",
   "language": "python",
   "name": "python3"
  },
  "language_info": {
   "codemirror_mode": {
    "name": "ipython",
    "version": 3
   },
   "file_extension": ".py",
   "mimetype": "text/x-python",
   "name": "python",
   "nbconvert_exporter": "python",
   "pygments_lexer": "ipython3",
   "version": "3.13.2"
  }
 },
 "nbformat": 4,
 "nbformat_minor": 4
}
