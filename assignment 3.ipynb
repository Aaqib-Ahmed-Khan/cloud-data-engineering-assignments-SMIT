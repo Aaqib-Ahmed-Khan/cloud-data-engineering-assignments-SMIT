{
 "cells": [
  {
   "cell_type": "code",
   "execution_count": null,
   "id": "dc7bdac3-fa92-4b17-bee9-c6f0db65e19a",
   "metadata": {},
   "outputs": [],
   "source": [
    "# 1. Write a program that accepts a string from user. Your program should count and display number of \n",
    "# vowels in that strig.  "
   ]
  },
  {
   "cell_type": "code",
   "execution_count": 4,
   "id": "44d8e0df",
   "metadata": {},
   "outputs": [
    {
     "name": "stdout",
     "output_type": "stream",
     "text": [
      "number of vowels in the string: 3\n"
     ]
    }
   ],
   "source": [
    "text = input(\"enter a string: \")\n",
    "\n",
    "vowels = \"aeiouAEIOU\"\n",
    "\n",
    "count = sum(1 for char in text if char in vowels)\n",
    "\n",
    "print(\"number of vowels in the string:\", count)\n"
   ]
  }
 ],
 "metadata": {
  "kernelspec": {
   "display_name": "Python 3",
   "language": "python",
   "name": "python3"
  },
  "language_info": {
   "codemirror_mode": {
    "name": "ipython",
    "version": 3
   },
   "file_extension": ".py",
   "mimetype": "text/x-python",
   "name": "python",
   "nbconvert_exporter": "python",
   "pygments_lexer": "ipython3",
   "version": "3.13.2"
  }
 },
 "nbformat": 4,
 "nbformat_minor": 5
}
