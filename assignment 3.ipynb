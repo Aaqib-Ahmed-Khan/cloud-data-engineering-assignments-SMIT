{
 "cells": [
  {
   "cell_type": "code",
   "execution_count": null,
   "id": "dc7bdac3-fa92-4b17-bee9-c6f0db65e19a",
   "metadata": {},
   "outputs": [],
   "source": [
    "# 1. Write a program that accepts a string from user. Your program should count and display number of \n",
    "# vowels in that strig.  "
   ]
  },
  {
   "cell_type": "code",
   "execution_count": 4,
   "id": "44d8e0df",
   "metadata": {},
   "outputs": [
    {
     "name": "stdout",
     "output_type": "stream",
     "text": [
      "number of vowels in the string: 3\n"
     ]
    }
   ],
   "source": [
    "text = input(\"enter a string: \")\n",
    "\n",
    "vowels = \"aeiouAEIOU\"\n",
    "\n",
    "count = sum(1 for char in text if char in vowels)\n",
    "\n",
    "print(\"number of vowels in the string:\", count)\n"
   ]
  },
  {
   "cell_type": "markdown",
   "id": "29a2966b",
   "metadata": {},
   "source": [
    "2. Write a program that reads a string from keyboard and display: \n",
    "* The number of uppercase letters in the string \n",
    "* The number of lowercase letters in the string \n",
    "* The number of digits in the string \n",
    "* The number of whitespace characters in the string  "
   ]
  },
  {
   "cell_type": "code",
   "execution_count": 5,
   "id": "0bc7ca53",
   "metadata": {},
   "outputs": [
    {
     "name": "stdout",
     "output_type": "stream",
     "text": [
      "number of uppercase letters: 0\n",
      "number of lowercase letters: 5\n",
      "number of digits: 0\n",
      "number of whitespace characters: 0\n"
     ]
    }
   ],
   "source": [
    "text = input(\"enter a string: \")\n",
    "\n",
    "uppercase_count = sum(1 for char in text if char.isupper())\n",
    "lowercase_count = sum(1 for char in text if char.islower())\n",
    "digit_count = sum(1 for char in text if char.isdigit())\n",
    "whitespace_count = sum(1 for char in text if char.isspace())\n",
    "\n",
    "print(\"number of uppercase letters:\", uppercase_count)\n",
    "print(\"number of lowercase letters:\", lowercase_count)\n",
    "print(\"number of digits:\", digit_count)\n",
    "print(\"number of whitespace characters:\", whitespace_count)\n"
   ]
  },
  {
   "cell_type": "markdown",
   "id": "071cb3ca",
   "metadata": {},
   "source": [
    "3. Write a Python program that accepts a string from user. Your program should create and display a \n",
    "new string where the first and last characters have been exchanged."
   ]
  },
  {
   "cell_type": "code",
   "execution_count": 7,
   "id": "90ee1cec",
   "metadata": {},
   "outputs": [
    {
     "name": "stdout",
     "output_type": "stream",
     "text": [
      "new string after swapping first and last character: ehat is your namw\n"
     ]
    }
   ],
   "source": [
    "text = input(\"enter a string: \")\n",
    "\n",
    "if len(text) > 1:\n",
    "    new_text = text[-1] + text[1:-1] + text[0]  \n",
    "else:\n",
    "    new_text = text  \n",
    "\n",
    "print(\"new string after swapping first and last character:\", new_text)\n"
   ]
  },
  {
   "cell_type": "markdown",
   "id": "cf968155",
   "metadata": {},
   "source": [
    "4. Write a Python program that accepts a string from user. Your program should create a new string in \n",
    "reverse of first string and display it"
   ]
  },
  {
   "cell_type": "code",
   "execution_count": 8,
   "id": "2a705381",
   "metadata": {},
   "outputs": [
    {
     "name": "stdout",
     "output_type": "stream",
     "text": [
      "reversed string: gninrael nohtyp\n"
     ]
    }
   ],
   "source": [
    "text = input(\"enter a string: \")\n",
    "reversed_text_is= text[::-1]\n",
    "\n",
    "print(\"reversed string:\", reversed_text_is)\n"
   ]
  },
  {
   "cell_type": "markdown",
   "id": "652e1cf3",
   "metadata": {},
   "source": [
    "5. Write a Python program that accepts a string from user. Your program should create a new string by \n",
    "shifting one position to left."
   ]
  },
  {
   "cell_type": "code",
   "execution_count": 10,
   "id": "0f5a2377",
   "metadata": {},
   "outputs": [
    {
     "name": "stdout",
     "output_type": "stream",
     "text": [
      "shifted string: i im learning pythonh\n"
     ]
    }
   ],
   "source": [
    "text = input(\"enter a string: \")\n",
    "\n",
    "if len(text) > 1:\n",
    "    shifted_text = text[1:] + text[0] \n",
    "else:\n",
    "    shifted_text = text  \n",
    "print(\"shifted string:\", shifted_text)\n"
   ]
  },
  {
   "cell_type": "markdown",
   "id": "c1ebf88e",
   "metadata": {},
   "source": [
    "6. Write a program that asks the user to input his name and print its initials. Assuming that the user \n",
    "always types first name, middle name and last name and does not include any unnecessary spaces. "
   ]
  },
  {
   "cell_type": "code",
   "execution_count": 1,
   "id": "56d59cd9",
   "metadata": {},
   "outputs": [
    {
     "name": "stdout",
     "output_type": "stream",
     "text": [
      "your initials are: AAK\n"
     ]
    }
   ],
   "source": [
    "full_name = input(\"enter your full name (first middle last): \")\n",
    "name_parts = full_name.split()\n",
    "\n",
    "initials = \"\".join([name[0].upper() for name in name_parts])\n",
    "print(\"your initials are:\", initials)\n"
   ]
  },
  {
   "cell_type": "markdown",
   "id": "d3f2ddfa",
   "metadata": {},
   "source": []
  }
 ],
 "metadata": {
  "kernelspec": {
   "display_name": "Python 3",
   "language": "python",
   "name": "python3"
  },
  "language_info": {
   "codemirror_mode": {
    "name": "ipython",
    "version": 3
   },
   "file_extension": ".py",
   "mimetype": "text/x-python",
   "name": "python",
   "nbconvert_exporter": "python",
   "pygments_lexer": "ipython3",
   "version": "3.13.2"
  }
 },
 "nbformat": 4,
 "nbformat_minor": 5
}
